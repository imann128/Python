{
 "cells": [
  {
   "cell_type": "markdown",
   "id": "67b5cc82",
   "metadata": {
    "papermill": {
     "duration": 0.005608,
     "end_time": "2025-01-14T11:59:24.435502",
     "exception": false,
     "start_time": "2025-01-14T11:59:24.429894",
     "status": "completed"
    },
    "tags": []
   },
   "source": [
    "**This notebook is an exercise in the [Python](https://www.kaggle.com/learn/python) course.  You can reference the tutorial at [this link](https://www.kaggle.com/colinmorris/hello-python).**\n",
    "\n",
    "---\n"
   ]
  },
  {
   "cell_type": "markdown",
   "id": "20100b79",
   "metadata": {
    "papermill": {
     "duration": 0.00452,
     "end_time": "2025-01-14T11:59:24.444990",
     "exception": false,
     "start_time": "2025-01-14T11:59:24.440470",
     "status": "completed"
    },
    "tags": []
   },
   "source": [
    "Welcome to your first set of Python coding problems.  If this is your first time using Kaggle Notebooks, welcome! \n",
    "\n",
    "Notebooks are composed of blocks (called \"cells\") of text and code. Each of these is editable, though you'll mainly be editing the code cells to answer some questions.\n",
    "\n",
    "To get started, try running the code cell below (by pressing the ► button, or clicking on the cell and pressing ctrl+enter on your keyboard)."
   ]
  },
  {
   "cell_type": "code",
   "execution_count": 1,
   "id": "6e8f82f6",
   "metadata": {
    "execution": {
     "iopub.execute_input": "2025-01-14T11:59:24.455538Z",
     "iopub.status.busy": "2025-01-14T11:59:24.455190Z",
     "iopub.status.idle": "2025-01-14T11:59:24.461295Z",
     "shell.execute_reply": "2025-01-14T11:59:24.460353Z"
    },
    "papermill": {
     "duration": 0.012974,
     "end_time": "2025-01-14T11:59:24.462560",
     "exception": false,
     "start_time": "2025-01-14T11:59:24.449586",
     "status": "completed"
    },
    "tags": []
   },
   "outputs": [
    {
     "name": "stdout",
     "output_type": "stream",
     "text": [
      "You've successfully run some Python code\n",
      "Congratulations!\n"
     ]
    }
   ],
   "source": [
    "print(\"You've successfully run some Python code\")\n",
    "print(\"Congratulations!\")"
   ]
  },
  {
   "cell_type": "markdown",
   "id": "773f2867",
   "metadata": {
    "papermill": {
     "duration": 0.004666,
     "end_time": "2025-01-14T11:59:24.472295",
     "exception": false,
     "start_time": "2025-01-14T11:59:24.467629",
     "status": "completed"
    },
    "tags": []
   },
   "source": [
    "Try adding another line of code in the cell above and re-running it. \n",
    "\n",
    "Now let's get a little fancier:  Add a new code cell by clicking on an existing code cell, hitting the escape key, and then hitting the `a` or `b` key.  The `a` key will add a cell above the current cell, and `b` adds a cell below.\n",
    "\n",
    "Great! Now you know how to use Notebooks.\n",
    "\n",
    "Each hands-on exercise starts by setting up our feedback and code checking mechanism. Run the code cell below to do that. Then you'll be ready to move on to question 0."
   ]
  },
  {
   "cell_type": "code",
   "execution_count": 2,
   "id": "2a86dc77",
   "metadata": {
    "_kg_hide-input": true,
    "_kg_hide-output": true,
    "execution": {
     "iopub.execute_input": "2025-01-14T11:59:24.483207Z",
     "iopub.status.busy": "2025-01-14T11:59:24.482895Z",
     "iopub.status.idle": "2025-01-14T11:59:24.880982Z",
     "shell.execute_reply": "2025-01-14T11:59:24.880016Z"
    },
    "papermill": {
     "duration": 0.40538,
     "end_time": "2025-01-14T11:59:24.882568",
     "exception": false,
     "start_time": "2025-01-14T11:59:24.477188",
     "status": "completed"
    },
    "tags": []
   },
   "outputs": [
    {
     "name": "stdout",
     "output_type": "stream",
     "text": [
      "Setup complete! You're ready to start question 0.\n"
     ]
    }
   ],
   "source": [
    "from learntools.core import binder; binder.bind(globals())\n",
    "from learntools.python.ex1 import *\n",
    "print(\"Setup complete! You're ready to start question 0.\")"
   ]
  },
  {
   "cell_type": "markdown",
   "id": "da27c830",
   "metadata": {
    "papermill": {
     "duration": 0.005195,
     "end_time": "2025-01-14T11:59:24.893592",
     "exception": false,
     "start_time": "2025-01-14T11:59:24.888397",
     "status": "completed"
    },
    "tags": []
   },
   "source": [
    "# 0.\n",
    "\n",
    "*This is a silly question intended as an introduction to the format we use for hands-on exercises throughout all Kaggle courses.*\n",
    "\n",
    "**What is your favorite color? **\n",
    "\n",
    "To complete this question, create a variable called `color` in the cell below with an appropriate value. The function call `q0.check()` (which we've already provided in the cell below) will check your answer."
   ]
  },
  {
   "cell_type": "code",
   "execution_count": 3,
   "id": "7c7ac2cd",
   "metadata": {
    "execution": {
     "iopub.execute_input": "2025-01-14T11:59:24.905106Z",
     "iopub.status.busy": "2025-01-14T11:59:24.904512Z",
     "iopub.status.idle": "2025-01-14T11:59:24.913493Z",
     "shell.execute_reply": "2025-01-14T11:59:24.912734Z"
    },
    "papermill": {
     "duration": 0.016332,
     "end_time": "2025-01-14T11:59:24.914941",
     "exception": false,
     "start_time": "2025-01-14T11:59:24.898609",
     "status": "completed"
    },
    "tags": []
   },
   "outputs": [
    {
     "name": "stdout",
     "output_type": "stream",
     "text": [
      "My favorite color is blue\n"
     ]
    },
    {
     "data": {
      "application/javascript": [
       "parent.postMessage({\"jupyterEvent\": \"custom.exercise_interaction\", \"data\": {\"outcomeType\": 1, \"valueTowardsCompletion\": 0.25, \"interactionType\": 1, \"questionType\": 2, \"questionId\": \"0_ExerciseFormatTutorial\", \"learnToolsVersion\": \"0.3.4\", \"failureMessage\": \"\", \"exceptionClass\": \"\", \"trace\": \"\"}}, \"*\")"
      ],
      "text/plain": [
       "<IPython.core.display.Javascript object>"
      ]
     },
     "metadata": {},
     "output_type": "display_data"
    },
    {
     "data": {
      "text/markdown": [
       "<span style=\"color:#33cc33\">Correct:</span> What?! You got it right without needing a hint or anything? Drats. Well hey, you should still continue to the next step to get some practice asking for a hint and checking solutions. (Even though you obviously don't need any help here.)"
      ],
      "text/plain": [
       "Correct: What?! You got it right without needing a hint or anything? Drats. Well hey, you should still continue to the next step to get some practice asking for a hint and checking solutions. (Even though you obviously don't need any help here.)"
      ]
     },
     "metadata": {},
     "output_type": "display_data"
    }
   ],
   "source": [
    "color = \"blue\"\n",
    "print(\"My favorite color is\", color)\n",
    "\n",
    "\n",
    "q0.check()"
   ]
  },
  {
   "cell_type": "markdown",
   "id": "90ec503c",
   "metadata": {
    "papermill": {
     "duration": 0.005142,
     "end_time": "2025-01-14T11:59:24.925642",
     "exception": false,
     "start_time": "2025-01-14T11:59:24.920500",
     "status": "completed"
    },
    "tags": []
   },
   "source": [
    "Didn't get the right answer? How do you not even know your own favorite color?!\n",
    "\n",
    "Delete the `#` in the line below to make one of the lines run. You can choose between getting a hint or the full answer by choosing which line to remove the `#` from. \n",
    "\n",
    "Removing the `#` is called uncommenting, because it changes that line from a \"comment\" which Python doesn't run to code, which Python does run."
   ]
  },
  {
   "cell_type": "code",
   "execution_count": 4,
   "id": "74b52d9b",
   "metadata": {
    "execution": {
     "iopub.execute_input": "2025-01-14T11:59:24.937425Z",
     "iopub.status.busy": "2025-01-14T11:59:24.937084Z",
     "iopub.status.idle": "2025-01-14T11:59:24.940742Z",
     "shell.execute_reply": "2025-01-14T11:59:24.939804Z"
    },
    "papermill": {
     "duration": 0.011219,
     "end_time": "2025-01-14T11:59:24.942211",
     "exception": false,
     "start_time": "2025-01-14T11:59:24.930992",
     "status": "completed"
    },
    "tags": []
   },
   "outputs": [],
   "source": [
    "#q0.hint()\n"
   ]
  },
  {
   "cell_type": "markdown",
   "id": "765c69ed",
   "metadata": {
    "papermill": {
     "duration": 0.005272,
     "end_time": "2025-01-14T11:59:24.952983",
     "exception": false,
     "start_time": "2025-01-14T11:59:24.947711",
     "status": "completed"
    },
    "tags": []
   },
   "source": [
    "The upcoming questions work the same way. The only thing that will change are the question numbers. For the next question, you'll call `q1.check()`, `q1.hint()`, `q1.solution()`, for question 2, you'll call `q2.check()`, and so on."
   ]
  },
  {
   "cell_type": "markdown",
   "id": "11d8598d",
   "metadata": {
    "papermill": {
     "duration": 0.00496,
     "end_time": "2025-01-14T11:59:24.963259",
     "exception": false,
     "start_time": "2025-01-14T11:59:24.958299",
     "status": "completed"
    },
    "tags": []
   },
   "source": [
    "<hr/>\n",
    "\n",
    "# 1.\n",
    "\n",
    "Complete the code below. In case it's helpful, here is the table of available arithmetic operations:\n",
    "\n",
    "\n",
    "\n",
    "| Operator     | Name           | Description                                            |\n",
    "|--------------|----------------|--------------------------------------------------------|\n",
    "| ``a + b``    | Addition       | Sum of ``a`` and ``b``                                 |\n",
    "| ``a - b``    | Subtraction    | Difference of ``a`` and ``b``                          |\n",
    "| ``a * b``    | Multiplication | Product of ``a`` and ``b``                             |\n",
    "| ``a / b``    | True division  | Quotient of ``a`` and ``b``                            |\n",
    "| ``a // b``   | Floor division | Quotient of ``a`` and ``b``, removing fractional parts |\n",
    "| ``a % b``    | Modulus        | Integer remainder after division of ``a`` by ``b``     |\n",
    "| ``a ** b``   | Exponentiation | ``a`` raised to the power of ``b``                     |\n",
    "| ``-a``       | Negation       | The negative of ``a``                                  |\n",
    "\n",
    "<span style=\"display:none\"></span>\n"
   ]
  },
  {
   "cell_type": "code",
   "execution_count": 5,
   "id": "9e79820f",
   "metadata": {
    "execution": {
     "iopub.execute_input": "2025-01-14T11:59:24.975340Z",
     "iopub.status.busy": "2025-01-14T11:59:24.974977Z",
     "iopub.status.idle": "2025-01-14T11:59:24.982012Z",
     "shell.execute_reply": "2025-01-14T11:59:24.981120Z"
    },
    "papermill": {
     "duration": 0.01499,
     "end_time": "2025-01-14T11:59:24.983450",
     "exception": false,
     "start_time": "2025-01-14T11:59:24.968460",
     "status": "completed"
    },
    "tags": []
   },
   "outputs": [
    {
     "data": {
      "application/javascript": [
       "parent.postMessage({\"jupyterEvent\": \"custom.exercise_interaction\", \"data\": {\"outcomeType\": 1, \"valueTowardsCompletion\": 0.25, \"interactionType\": 1, \"questionType\": 1, \"questionId\": \"1_CircleArea\", \"learnToolsVersion\": \"0.3.4\", \"failureMessage\": \"\", \"exceptionClass\": \"\", \"trace\": \"\"}}, \"*\")"
      ],
      "text/plain": [
       "<IPython.core.display.Javascript object>"
      ]
     },
     "metadata": {},
     "output_type": "display_data"
    },
    {
     "data": {
      "text/markdown": [
       "<span style=\"color:#33cc33\">Correct</span>"
      ],
      "text/plain": [
       "Correct"
      ]
     },
     "metadata": {},
     "output_type": "display_data"
    }
   ],
   "source": [
    "pi = 3.14159 # approximate\n",
    "diameter = 3\n",
    "\n",
    "# Create a variable called 'radius' equal to half the diameter\n",
    "radius = diameter / 2\n",
    "# Create a variable called 'area', using the formula for the area of a circle: pi times the radius squared\n",
    "area = pi * radius ** 2\n",
    "# Check your answer\n",
    "q1.check()"
   ]
  },
  {
   "cell_type": "code",
   "execution_count": 6,
   "id": "911265c7",
   "metadata": {
    "execution": {
     "iopub.execute_input": "2025-01-14T11:59:24.995790Z",
     "iopub.status.busy": "2025-01-14T11:59:24.995433Z",
     "iopub.status.idle": "2025-01-14T11:59:24.998900Z",
     "shell.execute_reply": "2025-01-14T11:59:24.997985Z"
    },
    "papermill": {
     "duration": 0.011276,
     "end_time": "2025-01-14T11:59:25.000417",
     "exception": false,
     "start_time": "2025-01-14T11:59:24.989141",
     "status": "completed"
    },
    "tags": []
   },
   "outputs": [],
   "source": [
    "# Uncomment and run the lines below if you need help.\n",
    "#q1.hint()\n",
    "#q1.solution()"
   ]
  },
  {
   "cell_type": "markdown",
   "id": "c1707e7c",
   "metadata": {
    "papermill": {
     "duration": 0.005431,
     "end_time": "2025-01-14T11:59:25.011609",
     "exception": false,
     "start_time": "2025-01-14T11:59:25.006178",
     "status": "completed"
    },
    "tags": []
   },
   "source": [
    "<hr/>\n",
    "\n",
    "# 2.\n",
    "\n",
    "Add code to the following cell to swap variables `a` and `b` (so that `a` refers to the object previously referred to by `b` and vice versa)."
   ]
  },
  {
   "cell_type": "code",
   "execution_count": 7,
   "id": "f1e9df6d",
   "metadata": {
    "execution": {
     "iopub.execute_input": "2025-01-14T11:59:25.024215Z",
     "iopub.status.busy": "2025-01-14T11:59:25.023868Z",
     "iopub.status.idle": "2025-01-14T11:59:25.030838Z",
     "shell.execute_reply": "2025-01-14T11:59:25.029977Z"
    },
    "papermill": {
     "duration": 0.014766,
     "end_time": "2025-01-14T11:59:25.032218",
     "exception": false,
     "start_time": "2025-01-14T11:59:25.017452",
     "status": "completed"
    },
    "tags": []
   },
   "outputs": [
    {
     "data": {
      "application/javascript": [
       "parent.postMessage({\"jupyterEvent\": \"custom.exercise_interaction\", \"data\": {\"outcomeType\": 1, \"valueTowardsCompletion\": 0.25, \"interactionType\": 1, \"questionType\": 2, \"questionId\": \"2_VariableSwap\", \"learnToolsVersion\": \"0.3.4\", \"failureMessage\": \"\", \"exceptionClass\": \"\", \"trace\": \"\"}}, \"*\")"
      ],
      "text/plain": [
       "<IPython.core.display.Javascript object>"
      ]
     },
     "metadata": {},
     "output_type": "display_data"
    },
    {
     "data": {
      "text/markdown": [
       "<span style=\"color:#33cc33\">Correct:</span> \n",
       "\n",
       "The most straightforward solution is to use a third variable to temporarily store one of the old values. e.g.:\n",
       "\n",
       "    tmp = a\n",
       "    a = b\n",
       "    b = tmp\n",
       "\n",
       "If you've read lots of Python code, you might have seen the following trick to swap two variables in one line:\n",
       "\n",
       "    a, b = b, a\n",
       "\n",
       "We'll demystify this bit of Python magic later when we talk about *tuples*."
      ],
      "text/plain": [
       "Correct: \n",
       "\n",
       "The most straightforward solution is to use a third variable to temporarily store one of the old values. e.g.:\n",
       "\n",
       "    tmp = a\n",
       "    a = b\n",
       "    b = tmp\n",
       "\n",
       "If you've read lots of Python code, you might have seen the following trick to swap two variables in one line:\n",
       "\n",
       "    a, b = b, a\n",
       "\n",
       "We'll demystify this bit of Python magic later when we talk about *tuples*."
      ]
     },
     "metadata": {},
     "output_type": "display_data"
    }
   ],
   "source": [
    "########### Setup code - don't touch this part ######################\n",
    "# If you're curious, these are examples of lists. We'll talk about \n",
    "# them in depth a few lessons from now. For now, just know that they're\n",
    "# yet another type of Python object, like int or float.\n",
    "a = [1, 2, 3]\n",
    "b = [3, 2, 1]\n",
    "q2.store_original_ids()\n",
    "######################################################################\n",
    "a, b = b, a\n",
    "######################################################################\n",
    "\n",
    "# Check your answer\n",
    "q2.check()"
   ]
  },
  {
   "cell_type": "code",
   "execution_count": 8,
   "id": "32473816",
   "metadata": {
    "execution": {
     "iopub.execute_input": "2025-01-14T11:59:25.045332Z",
     "iopub.status.busy": "2025-01-14T11:59:25.045000Z",
     "iopub.status.idle": "2025-01-14T11:59:25.048604Z",
     "shell.execute_reply": "2025-01-14T11:59:25.047709Z"
    },
    "papermill": {
     "duration": 0.011752,
     "end_time": "2025-01-14T11:59:25.050167",
     "exception": false,
     "start_time": "2025-01-14T11:59:25.038415",
     "status": "completed"
    },
    "tags": []
   },
   "outputs": [],
   "source": [
    "#q2.hint()"
   ]
  },
  {
   "cell_type": "code",
   "execution_count": 9,
   "id": "a980ed46",
   "metadata": {
    "execution": {
     "iopub.execute_input": "2025-01-14T11:59:25.063196Z",
     "iopub.status.busy": "2025-01-14T11:59:25.062858Z",
     "iopub.status.idle": "2025-01-14T11:59:25.066179Z",
     "shell.execute_reply": "2025-01-14T11:59:25.065414Z"
    },
    "papermill": {
     "duration": 0.011343,
     "end_time": "2025-01-14T11:59:25.067488",
     "exception": false,
     "start_time": "2025-01-14T11:59:25.056145",
     "status": "completed"
    },
    "tags": []
   },
   "outputs": [],
   "source": [
    "#q2.solution()"
   ]
  },
  {
   "cell_type": "markdown",
   "id": "567e4816",
   "metadata": {
    "papermill": {
     "duration": 0.005698,
     "end_time": "2025-01-14T11:59:25.079177",
     "exception": false,
     "start_time": "2025-01-14T11:59:25.073479",
     "status": "completed"
    },
    "tags": []
   },
   "source": [
    "<hr/>\n",
    "\n",
    "# 3a.\n",
    "\n",
    "Add parentheses to the following expression so that it evaluates to 1."
   ]
  },
  {
   "cell_type": "code",
   "execution_count": 10,
   "id": "4c576172",
   "metadata": {
    "execution": {
     "iopub.execute_input": "2025-01-14T11:59:25.092237Z",
     "iopub.status.busy": "2025-01-14T11:59:25.091880Z",
     "iopub.status.idle": "2025-01-14T11:59:25.097041Z",
     "shell.execute_reply": "2025-01-14T11:59:25.096129Z"
    },
    "papermill": {
     "duration": 0.013302,
     "end_time": "2025-01-14T11:59:25.098548",
     "exception": false,
     "start_time": "2025-01-14T11:59:25.085246",
     "status": "completed"
    },
    "tags": []
   },
   "outputs": [
    {
     "data": {
      "text/plain": [
       "1"
      ]
     },
     "execution_count": 10,
     "metadata": {},
     "output_type": "execute_result"
    }
   ],
   "source": [
    "(5 - 3) // 2"
   ]
  },
  {
   "cell_type": "code",
   "execution_count": 11,
   "id": "a3f9b71b",
   "metadata": {
    "execution": {
     "iopub.execute_input": "2025-01-14T11:59:25.111570Z",
     "iopub.status.busy": "2025-01-14T11:59:25.111269Z",
     "iopub.status.idle": "2025-01-14T11:59:25.114668Z",
     "shell.execute_reply": "2025-01-14T11:59:25.113888Z"
    },
    "papermill": {
     "duration": 0.011551,
     "end_time": "2025-01-14T11:59:25.116075",
     "exception": false,
     "start_time": "2025-01-14T11:59:25.104524",
     "status": "completed"
    },
    "tags": []
   },
   "outputs": [],
   "source": [
    "#q3.a.hint()"
   ]
  },
  {
   "cell_type": "code",
   "execution_count": 12,
   "id": "2207b4ce",
   "metadata": {
    "execution": {
     "iopub.execute_input": "2025-01-14T11:59:25.128977Z",
     "iopub.status.busy": "2025-01-14T11:59:25.128633Z",
     "iopub.status.idle": "2025-01-14T11:59:25.134890Z",
     "shell.execute_reply": "2025-01-14T11:59:25.134074Z"
    },
    "papermill": {
     "duration": 0.014117,
     "end_time": "2025-01-14T11:59:25.136192",
     "exception": false,
     "start_time": "2025-01-14T11:59:25.122075",
     "status": "completed"
    },
    "tags": []
   },
   "outputs": [
    {
     "data": {
      "application/javascript": [
       "parent.postMessage({\"jupyterEvent\": \"custom.exercise_interaction\", \"data\": {\"interactionType\": 3, \"questionType\": 4, \"questionId\": \"3.1_ArithmeticParensEasy\", \"learnToolsVersion\": \"0.3.4\", \"valueTowardsCompletion\": 0.0, \"failureMessage\": \"\", \"exceptionClass\": \"\", \"trace\": \"\", \"outcomeType\": 4}}, \"*\")"
      ],
      "text/plain": [
       "<IPython.core.display.Javascript object>"
      ]
     },
     "metadata": {},
     "output_type": "display_data"
    },
    {
     "data": {
      "text/markdown": [
       "<span style=\"color:#33cc99\">Solution:</span> \n",
       "```python\n",
       "(5 - 3) // 2\n",
       "```"
      ],
      "text/plain": [
       "Solution: \n",
       "```python\n",
       "(5 - 3) // 2\n",
       "```"
      ]
     },
     "metadata": {},
     "output_type": "display_data"
    }
   ],
   "source": [
    "# Check your answer (Run this code cell to receive credit!)\n",
    "q3.a.solution()"
   ]
  },
  {
   "cell_type": "markdown",
   "id": "c87f8d43",
   "metadata": {
    "papermill": {
     "duration": 0.005821,
     "end_time": "2025-01-14T11:59:25.148839",
     "exception": false,
     "start_time": "2025-01-14T11:59:25.143018",
     "status": "completed"
    },
    "tags": []
   },
   "source": [
    "# 3b.  <span title=\"A bit spicy\" style=\"color: darkgreen \">🌶️</span>\n",
    "\n",
    "<small>Questions, like this one, marked a spicy pepper are a bit harder.</small>\n",
    "\n",
    "Add parentheses to the following expression so that it evaluates to 0."
   ]
  },
  {
   "cell_type": "code",
   "execution_count": 13,
   "id": "f9b0e55c",
   "metadata": {
    "execution": {
     "iopub.execute_input": "2025-01-14T11:59:25.162164Z",
     "iopub.status.busy": "2025-01-14T11:59:25.161804Z",
     "iopub.status.idle": "2025-01-14T11:59:25.167145Z",
     "shell.execute_reply": "2025-01-14T11:59:25.166260Z"
    },
    "papermill": {
     "duration": 0.013695,
     "end_time": "2025-01-14T11:59:25.168562",
     "exception": false,
     "start_time": "2025-01-14T11:59:25.154867",
     "status": "completed"
    },
    "tags": []
   },
   "outputs": [
    {
     "data": {
      "text/plain": [
       "0"
      ]
     },
     "execution_count": 13,
     "metadata": {},
     "output_type": "execute_result"
    }
   ],
   "source": [
    "(8 - 3) * (2 - (1 + 1))"
   ]
  },
  {
   "cell_type": "code",
   "execution_count": 14,
   "id": "74a130b0",
   "metadata": {
    "execution": {
     "iopub.execute_input": "2025-01-14T11:59:25.182534Z",
     "iopub.status.busy": "2025-01-14T11:59:25.182185Z",
     "iopub.status.idle": "2025-01-14T11:59:25.185802Z",
     "shell.execute_reply": "2025-01-14T11:59:25.184853Z"
    },
    "papermill": {
     "duration": 0.012208,
     "end_time": "2025-01-14T11:59:25.187213",
     "exception": false,
     "start_time": "2025-01-14T11:59:25.175005",
     "status": "completed"
    },
    "tags": []
   },
   "outputs": [],
   "source": [
    "#q3.b.hint()"
   ]
  },
  {
   "cell_type": "code",
   "execution_count": 15,
   "id": "b28447bf",
   "metadata": {
    "execution": {
     "iopub.execute_input": "2025-01-14T11:59:25.200978Z",
     "iopub.status.busy": "2025-01-14T11:59:25.200617Z",
     "iopub.status.idle": "2025-01-14T11:59:25.206969Z",
     "shell.execute_reply": "2025-01-14T11:59:25.206093Z"
    },
    "papermill": {
     "duration": 0.014771,
     "end_time": "2025-01-14T11:59:25.208409",
     "exception": false,
     "start_time": "2025-01-14T11:59:25.193638",
     "status": "completed"
    },
    "tags": []
   },
   "outputs": [
    {
     "data": {
      "application/javascript": [
       "parent.postMessage({\"jupyterEvent\": \"custom.exercise_interaction\", \"data\": {\"interactionType\": 3, \"questionType\": 4, \"questionId\": \"3.2_ArithmeticParensHard\", \"learnToolsVersion\": \"0.3.4\", \"valueTowardsCompletion\": 0.0, \"failureMessage\": \"\", \"exceptionClass\": \"\", \"trace\": \"\", \"outcomeType\": 4}}, \"*\")"
      ],
      "text/plain": [
       "<IPython.core.display.Javascript object>"
      ]
     },
     "metadata": {},
     "output_type": "display_data"
    },
    {
     "data": {
      "text/markdown": [
       "<span style=\"color:#33cc99\">Solution:</span> `(8 - 3) * (2 - (1 + 1))` is one solution. There may be others."
      ],
      "text/plain": [
       "Solution: `(8 - 3) * (2 - (1 + 1))` is one solution. There may be others."
      ]
     },
     "metadata": {},
     "output_type": "display_data"
    }
   ],
   "source": [
    "# Check your answer (Run this code cell to receive credit!)\n",
    "q3.b.solution()"
   ]
  },
  {
   "cell_type": "markdown",
   "id": "2a085560",
   "metadata": {
    "papermill": {
     "duration": 0.006269,
     "end_time": "2025-01-14T11:59:25.221067",
     "exception": false,
     "start_time": "2025-01-14T11:59:25.214798",
     "status": "completed"
    },
    "tags": []
   },
   "source": [
    "<hr/>\n",
    "\n",
    "# 4. \n",
    "Alice, Bob and Carol have agreed to pool their Halloween candy and split it evenly among themselves.\n",
    "For the sake of their friendship, any candies left over will be smashed. For example, if they collectively\n",
    "bring home 91 candies, they'll take 30 each and smash 1.\n",
    "\n",
    "Write an arithmetic expression below to calculate how many candies they must smash for a given haul."
   ]
  },
  {
   "cell_type": "code",
   "execution_count": 16,
   "id": "f78b558a",
   "metadata": {
    "execution": {
     "iopub.execute_input": "2025-01-14T11:59:25.235034Z",
     "iopub.status.busy": "2025-01-14T11:59:25.234606Z",
     "iopub.status.idle": "2025-01-14T11:59:25.241856Z",
     "shell.execute_reply": "2025-01-14T11:59:25.241063Z"
    },
    "papermill": {
     "duration": 0.01568,
     "end_time": "2025-01-14T11:59:25.243117",
     "exception": false,
     "start_time": "2025-01-14T11:59:25.227437",
     "status": "completed"
    },
    "tags": []
   },
   "outputs": [
    {
     "data": {
      "application/javascript": [
       "parent.postMessage({\"jupyterEvent\": \"custom.exercise_interaction\", \"data\": {\"outcomeType\": 1, \"valueTowardsCompletion\": 0.25, \"interactionType\": 1, \"questionType\": 1, \"questionId\": \"4_CandySplitting\", \"learnToolsVersion\": \"0.3.4\", \"failureMessage\": \"\", \"exceptionClass\": \"\", \"trace\": \"\"}}, \"*\")"
      ],
      "text/plain": [
       "<IPython.core.display.Javascript object>"
      ]
     },
     "metadata": {},
     "output_type": "display_data"
    },
    {
     "data": {
      "text/markdown": [
       "<span style=\"color:#33cc33\">Correct</span>"
      ],
      "text/plain": [
       "Correct"
      ]
     },
     "metadata": {},
     "output_type": "display_data"
    }
   ],
   "source": [
    "# Variables representing the number of candies collected by alice, bob, and carol\n",
    "alice_candies = 121\n",
    "bob_candies = 77\n",
    "carol_candies = 109\n",
    "(alice_candies + bob_candies + carol_candies) % 3\n",
    "to_smash = 1\n",
    "# Check your answer\n",
    "q4.check()"
   ]
  },
  {
   "cell_type": "code",
   "execution_count": 17,
   "id": "3209469b",
   "metadata": {
    "execution": {
     "iopub.execute_input": "2025-01-14T11:59:25.257520Z",
     "iopub.status.busy": "2025-01-14T11:59:25.257205Z",
     "iopub.status.idle": "2025-01-14T11:59:25.260457Z",
     "shell.execute_reply": "2025-01-14T11:59:25.259728Z"
    },
    "papermill": {
     "duration": 0.011962,
     "end_time": "2025-01-14T11:59:25.261818",
     "exception": false,
     "start_time": "2025-01-14T11:59:25.249856",
     "status": "completed"
    },
    "tags": []
   },
   "outputs": [],
   "source": [
    "#q4.hint()\n",
    "#q4.solution()"
   ]
  },
  {
   "cell_type": "markdown",
   "id": "eb61a5cb",
   "metadata": {
    "papermill": {
     "duration": 0.006557,
     "end_time": "2025-01-14T11:59:25.275149",
     "exception": false,
     "start_time": "2025-01-14T11:59:25.268592",
     "status": "completed"
    },
    "tags": []
   },
   "source": [
    "# Keep Going\n",
    "\n",
    "Next up, you'll **[learn to write new functions and understand functions others write](https://www.kaggle.com/colinmorris/functions-and-getting-help)**. This will make you at least 10 times more productive as a Python programmer. "
   ]
  },
  {
   "cell_type": "markdown",
   "id": "0fd27b38",
   "metadata": {
    "papermill": {
     "duration": 0.006251,
     "end_time": "2025-01-14T11:59:25.287959",
     "exception": false,
     "start_time": "2025-01-14T11:59:25.281708",
     "status": "completed"
    },
    "tags": []
   },
   "source": [
    "---\n",
    "\n",
    "\n",
    "\n",
    "\n",
    "*Have questions or comments? Visit the [course discussion forum](https://www.kaggle.com/learn/python/discussion) to chat with other learners.*"
   ]
  }
 ],
 "metadata": {
  "kaggle": {
   "accelerator": "none",
   "dataSources": [],
   "isGpuEnabled": false,
   "isInternetEnabled": false,
   "language": "python",
   "sourceType": "notebook"
  },
  "kernelspec": {
   "display_name": "Python 3",
   "language": "python",
   "name": "python3"
  },
  "language_info": {
   "codemirror_mode": {
    "name": "ipython",
    "version": 3
   },
   "file_extension": ".py",
   "mimetype": "text/x-python",
   "name": "python",
   "nbconvert_exporter": "python",
   "pygments_lexer": "ipython3",
   "version": "3.10.12"
  },
  "learntools_metadata": {
   "lesson_index": 0,
   "type": "exercise"
  },
  "papermill": {
   "default_parameters": {},
   "duration": 3.460146,
   "end_time": "2025-01-14T11:59:25.813209",
   "environment_variables": {},
   "exception": null,
   "input_path": "__notebook__.ipynb",
   "output_path": "__notebook__.ipynb",
   "parameters": {},
   "start_time": "2025-01-14T11:59:22.353063",
   "version": "2.6.0"
  }
 },
 "nbformat": 4,
 "nbformat_minor": 5
}
