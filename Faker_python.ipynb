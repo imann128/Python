{
  "nbformat": 4,
  "nbformat_minor": 0,
  "metadata": {
    "colab": {
      "provenance": []
    },
    "kernelspec": {
      "name": "python3",
      "display_name": "Python 3"
    },
    "language_info": {
      "name": "python"
    }
  },
  "cells": [
    {
      "cell_type": "code",
      "source": [
        "pip install Faker"
      ],
      "metadata": {
        "colab": {
          "base_uri": "https://localhost:8080/"
        },
        "id": "CxP7necwC3PN",
        "outputId": "559e2bcb-ef83-46e7-c517-29d6caf3319b"
      },
      "execution_count": 2,
      "outputs": [
        {
          "output_type": "stream",
          "name": "stdout",
          "text": [
            "Collecting Faker\n",
            "  Downloading faker-37.1.0-py3-none-any.whl.metadata (15 kB)\n",
            "Requirement already satisfied: tzdata in /usr/local/lib/python3.11/dist-packages (from Faker) (2025.2)\n",
            "Downloading faker-37.1.0-py3-none-any.whl (1.9 MB)\n",
            "\u001b[?25l   \u001b[90m━━━━━━━━━━━━━━━━━━━━━━━━━━━━━━━━━━━━━━━━\u001b[0m \u001b[32m0.0/1.9 MB\u001b[0m \u001b[31m?\u001b[0m eta \u001b[36m-:--:--\u001b[0m\r\u001b[2K   \u001b[91m━━━━━\u001b[0m\u001b[91m╸\u001b[0m\u001b[90m━━━━━━━━━━━━━━━━━━━━━━━━━━━━━━━━━━\u001b[0m \u001b[32m0.3/1.9 MB\u001b[0m \u001b[31m8.3 MB/s\u001b[0m eta \u001b[36m0:00:01\u001b[0m\r\u001b[2K   \u001b[91m━━━━━━━━━━━━━━━━━━━━━━━━━━━━━━━━━━━━━━━\u001b[0m\u001b[91m╸\u001b[0m \u001b[32m1.9/1.9 MB\u001b[0m \u001b[31m29.2 MB/s\u001b[0m eta \u001b[36m0:00:01\u001b[0m\r\u001b[2K   \u001b[90m━━━━━━━━━━━━━━━━━━━━━━━━━━━━━━━━━━━━━━━━\u001b[0m \u001b[32m1.9/1.9 MB\u001b[0m \u001b[31m23.0 MB/s\u001b[0m eta \u001b[36m0:00:00\u001b[0m\n",
            "\u001b[?25hInstalling collected packages: Faker\n",
            "Successfully installed Faker-37.1.0\n"
          ]
        }
      ]
    },
    {
      "cell_type": "code",
      "execution_count": 6,
      "metadata": {
        "colab": {
          "base_uri": "https://localhost:8080/"
        },
        "id": "gD1WWhZH_Ylv",
        "outputId": "a434875f-14b5-4617-e815-3a646ea96d13"
      },
      "outputs": [
        {
          "output_type": "stream",
          "name": "stdout",
          "text": [
            "All CSVs generated\n"
          ]
        }
      ],
      "source": [
        "from faker import Faker\n",
        "import csv\n",
        "import random\n",
        "\n",
        "fake = Faker()\n",
        "\n",
        "Number_of_Patients = 50;\n",
        "Number_of_Doctors = 50;\n",
        "Number_of_Admins = 50;\n",
        "Number_of_Vitals = 50;\n",
        "Number_of_Appointments = 50;\n",
        "Number_of_Consultations = 50;\n",
        "Number_of_Prescriptions = 50;\n",
        "\n",
        "# Generate Patients\n",
        "patients = []\n",
        "for _ in range(Number_of_Patients):\n",
        "    patients.append({\n",
        "    \"id\": fake.uuid4()[:8],\n",
        "    \"name\": fake.name(),\n",
        "    \"email\": fake.email()\n",
        "})\n",
        "\n",
        "# Generate Doctors\n",
        "doctors = []\n",
        "for _ in range(Number_of_Doctors):\n",
        "    doctors.append({\n",
        "    \"id\": fake.uuid4()[:8],\n",
        "    \"name\": fake.name(),\n",
        "    \"email\": fake.email(),\n",
        "    \"password\": fake.password()\n",
        "})\n",
        "\n",
        "# Generate Admin\n",
        "admins = []\n",
        "for _ in range(Number_of_Admins):\n",
        "    admins.append({\n",
        "    \"name\": fake.name(),\n",
        "    \"password\": fake.password()\n",
        "})\n",
        "\n",
        "\n",
        "\n",
        "# Generate Vitals\n",
        "vitals = []\n",
        "for _ in range(Number_of_Vitals):\n",
        "    p = random.choice(patients)\n",
        "    vitals.append({\n",
        "        \"patientId\": p[\"id\"],\n",
        "        \"heartRate\": random.randint(60, 100),\n",
        "        \"oxygenLevel\": random.randint(90, 100),\n",
        "        \"bloodPressure\": f\"{random.randint(110, 130)}/{random.randint(70, 90)}\",\n",
        "        \"temperature\": round(random.uniform(36.0, 38.0), 1)\n",
        "    })\n",
        "\n",
        "# Generate Appointments\n",
        "appointments = []\n",
        "for _ in range(Number_of_Appointments):\n",
        "    p = random.choice(patients)\n",
        "    d = random.choice(doctors)\n",
        "    appointments.append({\n",
        "        \"appointmentDate\": fake.date_between(start_date='-6M', end_date='today'),\n",
        "        \"doctorName\": d[\"name\"],\n",
        "        \"patientId\": p[\"id\"],\n",
        "        \"status\": random.choice([\"Pending\", \"Completed\", \"Cancelled\"])\n",
        "    })\n",
        "\n",
        "# Generate Consultations\n",
        "consultations = []\n",
        "for _ in range(Number_of_Consultations):\n",
        "    p = random.choice(patients)\n",
        "    d = random.choice(doctors)\n",
        "    consultations.append({\n",
        "        \"patientId\": p[\"id\"],\n",
        "        \"doctorName\": d[\"name\"],\n",
        "        \"diagnosis\": fake.sentence(nb_words=6),\n",
        "        \"treatment\": fake.sentence(nb_words=8)\n",
        "    })\n",
        "\n",
        "# Generate Prescriptions\n",
        "prescriptions = []\n",
        "for _ in range(Number_of_Prescriptions):\n",
        "    p = random.choice(patients)\n",
        "    prescriptions.append({\n",
        "        \"patientId\": p[\"id\"],\n",
        "        \"medication\": fake.word(),\n",
        "        \"dosage\": f\"{random.randint(1, 5)}mg\",\n",
        "        \"schedule\": random.choice([\"Once daily\", \"Twice daily\", \"Every 8 hours\"]),\n",
        "        \"prescribingDoctor\": random.choice(doctors)[\"name\"]\n",
        "    })\n",
        "\n",
        "# save as CSV\n",
        "def save_csv(filename, fieldnames, rows):\n",
        "    with open(filename, 'w', newline='') as f:\n",
        "        writer = csv.DictWriter(f, fieldnames=fieldnames)\n",
        "        writer.writeheader()\n",
        "        writer.writerows(rows)\n",
        "\n",
        "save_csv('patients.csv', [\"id\", \"name\", \"email\"], patients)\n",
        "save_csv('doctors.csv', [\"id\", \"name\", \"email\", \"password\"], doctors)\n",
        "save_csv('adminss.csv', [\"name\", \"password\"], admins)\n",
        "save_csv('vitals.csv', [\"patientId\", \"heartRate\", \"oxygenLevel\", \"bloodPressure\", \"temperature\"], vitals)\n",
        "save_csv('appointments.csv', [\"appointmentDate\", \"doctorName\", \"patientId\", \"status\"], appointments)\n",
        "save_csv('consultations.csv', [\"patientId\", \"doctorName\", \"diagnosis\", \"treatment\"], consultations)\n",
        "save_csv('prescriptions.csv', [\"patientId\", \"medication\", \"dosage\", \"schedule\", \"prescribingDoctor\"], prescriptions)\n",
        "\n",
        "print(\"All CSVs generated\")\n"
      ]
    }
  ]
}