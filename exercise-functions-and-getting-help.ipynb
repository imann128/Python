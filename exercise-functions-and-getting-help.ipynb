{
 "cells": [
  {
   "cell_type": "markdown",
   "id": "49a926ad",
   "metadata": {
    "papermill": {
     "duration": 0.004862,
     "end_time": "2025-01-16T11:39:36.713192",
     "exception": false,
     "start_time": "2025-01-16T11:39:36.708330",
     "status": "completed"
    },
    "tags": []
   },
   "source": [
    "**This notebook is an exercise in the [Python](https://www.kaggle.com/learn/python) course.  You can reference the tutorial at [this link](https://www.kaggle.com/colinmorris/functions-and-getting-help).**\n",
    "\n",
    "---\n"
   ]
  },
  {
   "cell_type": "markdown",
   "id": "a23ae02c",
   "metadata": {
    "papermill": {
     "duration": 0.003804,
     "end_time": "2025-01-16T11:39:36.721341",
     "exception": false,
     "start_time": "2025-01-16T11:39:36.717537",
     "status": "completed"
    },
    "tags": []
   },
   "source": [
    "Functions are powerful. Try writing some yourself.\n",
    "\n",
    "As before, don't forget to run the setup code below before jumping into question 1."
   ]
  },
  {
   "cell_type": "code",
   "execution_count": 1,
   "id": "709615f5",
   "metadata": {
    "_kg_hide-input": true,
    "_kg_hide-output": true,
    "execution": {
     "iopub.execute_input": "2025-01-16T11:39:36.731274Z",
     "iopub.status.busy": "2025-01-16T11:39:36.730785Z",
     "iopub.status.idle": "2025-01-16T11:39:37.930169Z",
     "shell.execute_reply": "2025-01-16T11:39:37.928818Z"
    },
    "papermill": {
     "duration": 1.206714,
     "end_time": "2025-01-16T11:39:37.932196",
     "exception": false,
     "start_time": "2025-01-16T11:39:36.725482",
     "status": "completed"
    },
    "tags": []
   },
   "outputs": [
    {
     "name": "stdout",
     "output_type": "stream",
     "text": [
      "Setup complete.\n"
     ]
    }
   ],
   "source": [
    "# SETUP. You don't need to worry for now about what this code does or how it works.\n",
    "from learntools.core import binder; binder.bind(globals())\n",
    "from learntools.python.ex2 import *\n",
    "print('Setup complete.')"
   ]
  },
  {
   "cell_type": "markdown",
   "id": "b1427e09",
   "metadata": {
    "papermill": {
     "duration": 0.004406,
     "end_time": "2025-01-16T11:39:37.941056",
     "exception": false,
     "start_time": "2025-01-16T11:39:37.936650",
     "status": "completed"
    },
    "tags": []
   },
   "source": [
    "# 1.\n",
    "\n",
    "Complete the body of the following function according to its docstring.\n",
    "\n",
    "HINT: Python has a built-in function `round`."
   ]
  },
  {
   "cell_type": "code",
   "execution_count": 2,
   "id": "682ac1c1",
   "metadata": {
    "execution": {
     "iopub.execute_input": "2025-01-16T11:39:37.951170Z",
     "iopub.status.busy": "2025-01-16T11:39:37.950491Z",
     "iopub.status.idle": "2025-01-16T11:39:37.963274Z",
     "shell.execute_reply": "2025-01-16T11:39:37.961926Z"
    },
    "papermill": {
     "duration": 0.02021,
     "end_time": "2025-01-16T11:39:37.965497",
     "exception": false,
     "start_time": "2025-01-16T11:39:37.945287",
     "status": "completed"
    },
    "tags": []
   },
   "outputs": [
    {
     "name": "stdout",
     "output_type": "stream",
     "text": [
      "3.14\n"
     ]
    },
    {
     "data": {
      "application/javascript": [
       "parent.postMessage({\"jupyterEvent\": \"custom.exercise_interaction\", \"data\": {\"outcomeType\": 1, \"valueTowardsCompletion\": 0.16666666666666666, \"interactionType\": 1, \"questionType\": 2, \"questionId\": \"1_RoundFunctionProblem\", \"learnToolsVersion\": \"0.3.4\", \"failureMessage\": \"\", \"exceptionClass\": \"\", \"trace\": \"\"}}, \"*\")"
      ],
      "text/plain": [
       "<IPython.core.display.Javascript object>"
      ]
     },
     "metadata": {},
     "output_type": "display_data"
    },
    {
     "data": {
      "text/markdown": [
       "<span style=\"color:#33cc33\">Correct</span>"
      ],
      "text/plain": [
       "Correct"
      ]
     },
     "metadata": {},
     "output_type": "display_data"
    }
   ],
   "source": [
    "def round_to_two_places(num):\n",
    "    return round(num, 2)\n",
    "    \"\"\"Return the given number rounded to two decimal places. \n",
    "    \n",
    "    >>> round_to_two_places(3.14159)\n",
    "    3.14\n",
    "    \"\"\"\n",
    "num = 3.14159\n",
    "num = round(num, 2)\n",
    "print(num)\n",
    "# Check your answer\n",
    "q1.check()"
   ]
  },
  {
   "cell_type": "code",
   "execution_count": 3,
   "id": "86355d5f",
   "metadata": {
    "execution": {
     "iopub.execute_input": "2025-01-16T11:39:37.976052Z",
     "iopub.status.busy": "2025-01-16T11:39:37.975654Z",
     "iopub.status.idle": "2025-01-16T11:39:37.979691Z",
     "shell.execute_reply": "2025-01-16T11:39:37.978472Z"
    },
    "papermill": {
     "duration": 0.011342,
     "end_time": "2025-01-16T11:39:37.981563",
     "exception": false,
     "start_time": "2025-01-16T11:39:37.970221",
     "status": "completed"
    },
    "tags": []
   },
   "outputs": [],
   "source": [
    "# Uncomment the following for a hint\n",
    "#q1.hint()\n",
    "# Or uncomment the following to peek at the solution\n",
    "#q1.solution()"
   ]
  },
  {
   "cell_type": "markdown",
   "id": "6f4a964c",
   "metadata": {
    "papermill": {
     "duration": 0.004269,
     "end_time": "2025-01-16T11:39:37.990962",
     "exception": false,
     "start_time": "2025-01-16T11:39:37.986693",
     "status": "completed"
    },
    "tags": []
   },
   "source": [
    "# 2.\n",
    "The help for `round` says that `ndigits` (the second argument) may be negative.\n",
    "What do you think will happen when it is? Try some examples in the following cell."
   ]
  },
  {
   "cell_type": "code",
   "execution_count": 4,
   "id": "57b4ef46",
   "metadata": {
    "execution": {
     "iopub.execute_input": "2025-01-16T11:39:38.004440Z",
     "iopub.status.busy": "2025-01-16T11:39:38.002943Z",
     "iopub.status.idle": "2025-01-16T11:39:38.016443Z",
     "shell.execute_reply": "2025-01-16T11:39:38.015479Z"
    },
    "papermill": {
     "duration": 0.022709,
     "end_time": "2025-01-16T11:39:38.018257",
     "exception": false,
     "start_time": "2025-01-16T11:39:37.995548",
     "status": "completed"
    },
    "tags": []
   },
   "outputs": [
    {
     "name": "stdout",
     "output_type": "stream",
     "text": [
      "345200\n"
     ]
    },
    {
     "data": {
      "application/javascript": [
       "parent.postMessage({\"jupyterEvent\": \"custom.exercise_interaction\", \"data\": {\"outcomeType\": 1, \"valueTowardsCompletion\": 0.16666666666666666, \"interactionType\": 1, \"questionType\": 4, \"questionId\": \"2_RoundNdigitsProblem\", \"learnToolsVersion\": \"0.3.4\", \"failureMessage\": \"\", \"exceptionClass\": \"\", \"trace\": \"\"}}, \"*\")"
      ],
      "text/plain": [
       "<IPython.core.display.Javascript object>"
      ]
     },
     "metadata": {},
     "output_type": "display_data"
    },
    {
     "data": {
      "text/markdown": [
       "<span style=\"color:#33cc33\">Correct:</span> \n",
       "\n",
       "As you've seen, `ndigits=-1` rounds to the nearest 10, `ndigits=-2` rounds to the nearest 100 and so on. Where might this be useful? Suppose we're dealing with large numbers:\n",
       "\n",
       "> The area of Finland is 338,424 km²  \n",
       "> The area of Greenland is 2,166,086 km²\n",
       "\n",
       "We probably don't care whether it's really 338,424, or 338,425, or 338,177. All those digits of accuracy are just distracting. We can chop them off by calling `round()` with `ndigits=-3`:\n",
       "\n",
       "> The area of Finland is 338,000 km²  \n",
       "> The area of Greenland is 2,166,000 km²\n",
       "\n",
       "(We'll talk about how we would get the commas later when we talk about string formatting :))\n"
      ],
      "text/plain": [
       "Correct: \n",
       "\n",
       "As you've seen, `ndigits=-1` rounds to the nearest 10, `ndigits=-2` rounds to the nearest 100 and so on. Where might this be useful? Suppose we're dealing with large numbers:\n",
       "\n",
       "> The area of Finland is 338,424 km²  \n",
       "> The area of Greenland is 2,166,086 km²\n",
       "\n",
       "We probably don't care whether it's really 338,424, or 338,425, or 338,177. All those digits of accuracy are just distracting. We can chop them off by calling `round()` with `ndigits=-3`:\n",
       "\n",
       "> The area of Finland is 338,000 km²  \n",
       "> The area of Greenland is 2,166,000 km²\n",
       "\n",
       "(We'll talk about how we would get the commas later when we talk about string formatting :))"
      ]
     },
     "metadata": {},
     "output_type": "display_data"
    }
   ],
   "source": [
    "def round_to_three_places(num):\n",
    "    return round(num, -2)\n",
    "    \n",
    "num = 345236\n",
    "num = round(num, -2)  \n",
    "print(num)\n",
    "q2.check()"
   ]
  },
  {
   "cell_type": "markdown",
   "id": "6208312d",
   "metadata": {
    "papermill": {
     "duration": 0.004485,
     "end_time": "2025-01-16T11:39:38.027754",
     "exception": false,
     "start_time": "2025-01-16T11:39:38.023269",
     "status": "completed"
    },
    "tags": []
   },
   "source": [
    "Can you think of a case where this would be useful?  Once you're ready, run the code cell below to see the answer and to receive credit for completing the problem."
   ]
  },
  {
   "cell_type": "code",
   "execution_count": 5,
   "id": "a39ab5dc",
   "metadata": {
    "execution": {
     "iopub.execute_input": "2025-01-16T11:39:38.039502Z",
     "iopub.status.busy": "2025-01-16T11:39:38.039129Z",
     "iopub.status.idle": "2025-01-16T11:39:38.047164Z",
     "shell.execute_reply": "2025-01-16T11:39:38.045559Z"
    },
    "papermill": {
     "duration": 0.016737,
     "end_time": "2025-01-16T11:39:38.049198",
     "exception": false,
     "start_time": "2025-01-16T11:39:38.032461",
     "status": "completed"
    },
    "tags": []
   },
   "outputs": [
    {
     "data": {
      "application/javascript": [
       "parent.postMessage({\"jupyterEvent\": \"custom.exercise_interaction\", \"data\": {\"interactionType\": 3, \"questionType\": 4, \"questionId\": \"2_RoundNdigitsProblem\", \"learnToolsVersion\": \"0.3.4\", \"valueTowardsCompletion\": 0.0, \"failureMessage\": \"\", \"exceptionClass\": \"\", \"trace\": \"\", \"outcomeType\": 4}}, \"*\")"
      ],
      "text/plain": [
       "<IPython.core.display.Javascript object>"
      ]
     },
     "metadata": {},
     "output_type": "display_data"
    },
    {
     "data": {
      "text/markdown": [
       "<span style=\"color:#33cc99\">Solution:</span> As you've seen, `ndigits=-1` rounds to the nearest 10, `ndigits=-2` rounds to the nearest 100 and so on. Where might this be useful? Suppose we're dealing with large numbers:\n",
       "\n",
       "> The area of Finland is 338,424 km²  \n",
       "> The area of Greenland is 2,166,086 km²\n",
       "\n",
       "We probably don't care whether it's really 338,424, or 338,425, or 338,177. All those digits of accuracy are just distracting. We can chop them off by calling `round()` with `ndigits=-3`:\n",
       "\n",
       "> The area of Finland is 338,000 km²  \n",
       "> The area of Greenland is 2,166,000 km²\n",
       "\n",
       "(We'll talk about how we would get the commas later when we talk about string formatting :))\n"
      ],
      "text/plain": [
       "Solution: As you've seen, `ndigits=-1` rounds to the nearest 10, `ndigits=-2` rounds to the nearest 100 and so on. Where might this be useful? Suppose we're dealing with large numbers:\n",
       "\n",
       "> The area of Finland is 338,424 km²  \n",
       "> The area of Greenland is 2,166,086 km²\n",
       "\n",
       "We probably don't care whether it's really 338,424, or 338,425, or 338,177. All those digits of accuracy are just distracting. We can chop them off by calling `round()` with `ndigits=-3`:\n",
       "\n",
       "> The area of Finland is 338,000 km²  \n",
       "> The area of Greenland is 2,166,000 km²\n",
       "\n",
       "(We'll talk about how we would get the commas later when we talk about string formatting :))"
      ]
     },
     "metadata": {},
     "output_type": "display_data"
    }
   ],
   "source": [
    "# Check your answer (Run this code cell to receive credit!)\n",
    "q2.solution()"
   ]
  },
  {
   "cell_type": "markdown",
   "id": "e70654f7",
   "metadata": {
    "papermill": {
     "duration": 0.00481,
     "end_time": "2025-01-16T11:39:38.060081",
     "exception": false,
     "start_time": "2025-01-16T11:39:38.055271",
     "status": "completed"
    },
    "tags": []
   },
   "source": [
    "# 3.\n",
    "\n",
    "In the previous exercise, the candy-sharing friends Alice, Bob and Carol tried to split candies evenly. For the sake of their friendship, any candies left over would be smashed. For example, if they collectively bring home 91 candies, they'll take 30 each and smash 1.\n",
    "\n",
    "Below is a simple function that will calculate the number of candies to smash for *any* number of total candies.\n",
    "\n",
    "Modify it so that it optionally takes a second argument representing the number of friends the candies are being split between. If no second argument is provided, it should assume 3 friends, as before.\n",
    "\n",
    "Update the docstring to reflect this new behaviour."
   ]
  },
  {
   "cell_type": "code",
   "execution_count": 6,
   "id": "01e21d54",
   "metadata": {
    "execution": {
     "iopub.execute_input": "2025-01-16T11:39:38.071519Z",
     "iopub.status.busy": "2025-01-16T11:39:38.071119Z",
     "iopub.status.idle": "2025-01-16T11:39:38.079429Z",
     "shell.execute_reply": "2025-01-16T11:39:38.078426Z"
    },
    "papermill": {
     "duration": 0.015975,
     "end_time": "2025-01-16T11:39:38.081155",
     "exception": false,
     "start_time": "2025-01-16T11:39:38.065180",
     "status": "completed"
    },
    "tags": []
   },
   "outputs": [
    {
     "data": {
      "application/javascript": [
       "parent.postMessage({\"jupyterEvent\": \"custom.exercise_interaction\", \"data\": {\"outcomeType\": 1, \"valueTowardsCompletion\": 0.16666666666666666, \"interactionType\": 1, \"questionType\": 2, \"questionId\": \"3_CandySmashingFunctionProblem\", \"learnToolsVersion\": \"0.3.4\", \"failureMessage\": \"\", \"exceptionClass\": \"\", \"trace\": \"\"}}, \"*\")"
      ],
      "text/plain": [
       "<IPython.core.display.Javascript object>"
      ]
     },
     "metadata": {},
     "output_type": "display_data"
    },
    {
     "data": {
      "text/markdown": [
       "<span style=\"color:#33cc33\">Correct</span>"
      ],
      "text/plain": [
       "Correct"
      ]
     },
     "metadata": {},
     "output_type": "display_data"
    }
   ],
   "source": [
    "def to_smash(total_candies, number_of_friends=3):\n",
    "    \"\"\"Return the number of leftover candies that must be smashed after distributing\n",
    "    the given number of candies evenly between 3 friends.\n",
    "    If no second argument is provided the program assumes 3 friends by default\n",
    "    >>> to_smash(91)\n",
    "    1\n",
    "    \"\"\"\n",
    "    return total_candies % number_of_friends\n",
    "\n",
    "q3.check()"
   ]
  },
  {
   "cell_type": "code",
   "execution_count": 7,
   "id": "fa6349ce",
   "metadata": {
    "execution": {
     "iopub.execute_input": "2025-01-16T11:39:38.093280Z",
     "iopub.status.busy": "2025-01-16T11:39:38.092894Z",
     "iopub.status.idle": "2025-01-16T11:39:38.099040Z",
     "shell.execute_reply": "2025-01-16T11:39:38.097788Z"
    },
    "papermill": {
     "duration": 0.014137,
     "end_time": "2025-01-16T11:39:38.100836",
     "exception": false,
     "start_time": "2025-01-16T11:39:38.086699",
     "status": "completed"
    },
    "tags": []
   },
   "outputs": [
    {
     "data": {
      "text/plain": [
       "''"
      ]
     },
     "execution_count": 7,
     "metadata": {},
     "output_type": "execute_result"
    }
   ],
   "source": [
    "_#q3.hint()"
   ]
  },
  {
   "cell_type": "code",
   "execution_count": 8,
   "id": "43369f45",
   "metadata": {
    "execution": {
     "iopub.execute_input": "2025-01-16T11:39:38.113537Z",
     "iopub.status.busy": "2025-01-16T11:39:38.113147Z",
     "iopub.status.idle": "2025-01-16T11:39:38.121304Z",
     "shell.execute_reply": "2025-01-16T11:39:38.120190Z"
    },
    "papermill": {
     "duration": 0.016796,
     "end_time": "2025-01-16T11:39:38.123278",
     "exception": false,
     "start_time": "2025-01-16T11:39:38.106482",
     "status": "completed"
    },
    "tags": []
   },
   "outputs": [
    {
     "data": {
      "application/javascript": [
       "parent.postMessage({\"jupyterEvent\": \"custom.exercise_interaction\", \"data\": {\"interactionType\": 3, \"questionType\": 2, \"questionId\": \"3_CandySmashingFunctionProblem\", \"learnToolsVersion\": \"0.3.4\", \"valueTowardsCompletion\": 0.0, \"failureMessage\": \"\", \"exceptionClass\": \"\", \"trace\": \"\", \"outcomeType\": 4}}, \"*\")"
      ],
      "text/plain": [
       "<IPython.core.display.Javascript object>"
      ]
     },
     "metadata": {},
     "output_type": "display_data"
    },
    {
     "data": {
      "text/markdown": [
       "<span style=\"color:#33cc99\">Solution:</span> \n",
       "```python\n",
       "def to_smash(total_candies, n_friends=3):\n",
       "    return total_candies % n_friends\n",
       "```"
      ],
      "text/plain": [
       "Solution: \n",
       "```python\n",
       "def to_smash(total_candies, n_friends=3):\n",
       "    return total_candies % n_friends\n",
       "```"
      ]
     },
     "metadata": {},
     "output_type": "display_data"
    }
   ],
   "source": [
    "q3.solution()"
   ]
  },
  {
   "cell_type": "markdown",
   "id": "233b6e5e",
   "metadata": {
    "papermill": {
     "duration": 0.005518,
     "end_time": "2025-01-16T11:39:38.135285",
     "exception": false,
     "start_time": "2025-01-16T11:39:38.129767",
     "status": "completed"
    },
    "tags": []
   },
   "source": [
    "# 4. (Optional)\n",
    "\n",
    "It may not be fun, but reading and understanding error messages will be an important part of your Python career.\n",
    "\n",
    "Each code cell below contains some commented buggy code. For each cell...\n",
    "\n",
    "1. Read the code and predict what you think will happen when it's run.\n",
    "2. Then uncomment the code and run it to see what happens. (**Tip**: In the kernel editor, you can highlight several lines and press `ctrl`+`/` to toggle commenting.)\n",
    "3. Fix the code (so that it accomplishes its intended purpose without throwing an exception)\n",
    "\n",
    "<!-- TODO: should this be autochecked? Delta is probably pretty small. -->"
   ]
  },
  {
   "cell_type": "code",
   "execution_count": 9,
   "id": "be580d2e",
   "metadata": {
    "execution": {
     "iopub.execute_input": "2025-01-16T11:39:38.147981Z",
     "iopub.status.busy": "2025-01-16T11:39:38.147510Z",
     "iopub.status.idle": "2025-01-16T11:39:38.153760Z",
     "shell.execute_reply": "2025-01-16T11:39:38.152524Z"
    },
    "papermill": {
     "duration": 0.0151,
     "end_time": "2025-01-16T11:39:38.155986",
     "exception": false,
     "start_time": "2025-01-16T11:39:38.140886",
     "status": "completed"
    },
    "tags": []
   },
   "outputs": [
    {
     "name": "stdout",
     "output_type": "stream",
     "text": [
      "6.68\n"
     ]
    }
   ],
   "source": [
    " def round_to_two_places(num):\n",
    "     return round(num, 2)\n",
    " num = 6.6758494\n",
    " num = round(num, 2)\n",
    "print(num)"
   ]
  },
  {
   "cell_type": "code",
   "execution_count": 10,
   "id": "573891b4",
   "metadata": {
    "execution": {
     "iopub.execute_input": "2025-01-16T11:39:38.169957Z",
     "iopub.status.busy": "2025-01-16T11:39:38.169463Z",
     "iopub.status.idle": "2025-01-16T11:39:38.175311Z",
     "shell.execute_reply": "2025-01-16T11:39:38.174108Z"
    },
    "papermill": {
     "duration": 0.015403,
     "end_time": "2025-01-16T11:39:38.177147",
     "exception": false,
     "start_time": "2025-01-16T11:39:38.161744",
     "status": "completed"
    },
    "tags": []
   },
   "outputs": [
    {
     "name": "stdout",
     "output_type": "stream",
     "text": [
      "-10\n"
     ]
    }
   ],
   "source": [
    "x = -10\n",
    "y = 5\n",
    "result = min((-10, 5))\n",
    "print(result)"
   ]
  },
  {
   "cell_type": "code",
   "execution_count": null,
   "id": "f876df6c",
   "metadata": {
    "execution": {
     "iopub.status.busy": "2025-01-16T11:12:34.364474Z",
     "iopub.status.idle": "2025-01-16T11:12:34.364889Z",
     "shell.execute_reply": "2025-01-16T11:12:34.364735Z"
    },
    "papermill": {
     "duration": 0.005245,
     "end_time": "2025-01-16T11:39:38.188332",
     "exception": false,
     "start_time": "2025-01-16T11:39:38.183087",
     "status": "completed"
    },
    "tags": []
   },
   "outputs": [],
   "source": []
  },
  {
   "cell_type": "markdown",
   "id": "bd714d1c",
   "metadata": {
    "papermill": {
     "duration": 0.005515,
     "end_time": "2025-01-16T11:39:38.200487",
     "exception": false,
     "start_time": "2025-01-16T11:39:38.194972",
     "status": "completed"
    },
    "tags": []
   },
   "source": [
    "# Keep Going\n",
    "\n",
    "Nice job with the code. Next up, you'll learn about *conditionals*, which you'll need to **[write interesting programs](https://www.kaggle.com/colinmorris/booleans-and-conditionals)**. "
   ]
  },
  {
   "cell_type": "markdown",
   "id": "338cdea2",
   "metadata": {
    "papermill": {
     "duration": 0.00582,
     "end_time": "2025-01-16T11:39:38.212747",
     "exception": false,
     "start_time": "2025-01-16T11:39:38.206927",
     "status": "completed"
    },
    "tags": []
   },
   "source": [
    "---\n",
    "\n",
    "\n",
    "\n",
    "\n",
    "*Have questions or comments? Visit the [course discussion forum](https://www.kaggle.com/learn/python/discussion) to chat with other learners.*"
   ]
  }
 ],
 "metadata": {
  "kaggle": {
   "accelerator": "none",
   "dataSources": [],
   "isGpuEnabled": false,
   "isInternetEnabled": false,
   "language": "python",
   "sourceType": "notebook"
  },
  "kernelspec": {
   "display_name": "Python 3",
   "language": "python",
   "name": "python3"
  },
  "language_info": {
   "codemirror_mode": {
    "name": "ipython",
    "version": 3
   },
   "file_extension": ".py",
   "mimetype": "text/x-python",
   "name": "python",
   "nbconvert_exporter": "python",
   "pygments_lexer": "ipython3",
   "version": "3.10.12"
  },
  "learntools_metadata": {
   "lesson_index": 1,
   "type": "exercise"
  },
  "papermill": {
   "default_parameters": {},
   "duration": 5.243178,
   "end_time": "2025-01-16T11:39:38.945642",
   "environment_variables": {},
   "exception": null,
   "input_path": "__notebook__.ipynb",
   "output_path": "__notebook__.ipynb",
   "parameters": {},
   "start_time": "2025-01-16T11:39:33.702464",
   "version": "2.6.0"
  }
 },
 "nbformat": 4,
 "nbformat_minor": 5
}
